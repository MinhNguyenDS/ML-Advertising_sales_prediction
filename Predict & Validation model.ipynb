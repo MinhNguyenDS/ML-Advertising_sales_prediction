{
 "cells": [
  {
   "cell_type": "code",
   "execution_count": 1,
   "metadata": {},
   "outputs": [],
   "source": [
    "import numpy as np \n",
    "import pandas as pd\n",
    "import joblib\n",
    "\n",
    "import warnings \n",
    "\n",
    "warnings.filterwarnings('ignore')"
   ]
  },
  {
   "cell_type": "code",
   "execution_count": 2,
   "metadata": {},
   "outputs": [
    {
     "data": {
      "text/html": [
       "<div>\n",
       "<style scoped>\n",
       "    .dataframe tbody tr th:only-of-type {\n",
       "        vertical-align: middle;\n",
       "    }\n",
       "\n",
       "    .dataframe tbody tr th {\n",
       "        vertical-align: top;\n",
       "    }\n",
       "\n",
       "    .dataframe thead th {\n",
       "        text-align: right;\n",
       "    }\n",
       "</style>\n",
       "<table border=\"1\" class=\"dataframe\">\n",
       "  <thead>\n",
       "    <tr style=\"text-align: right;\">\n",
       "      <th></th>\n",
       "      <th>TV</th>\n",
       "      <th>Radio</th>\n",
       "      <th>Newspaper</th>\n",
       "      <th>Sales</th>\n",
       "    </tr>\n",
       "  </thead>\n",
       "  <tbody>\n",
       "    <tr>\n",
       "      <th>0</th>\n",
       "      <td>230.1</td>\n",
       "      <td>37.8</td>\n",
       "      <td>69.2</td>\n",
       "      <td>22.1</td>\n",
       "    </tr>\n",
       "    <tr>\n",
       "      <th>1</th>\n",
       "      <td>44.5</td>\n",
       "      <td>39.3</td>\n",
       "      <td>45.1</td>\n",
       "      <td>10.4</td>\n",
       "    </tr>\n",
       "    <tr>\n",
       "      <th>2</th>\n",
       "      <td>17.2</td>\n",
       "      <td>45.9</td>\n",
       "      <td>69.3</td>\n",
       "      <td>12.0</td>\n",
       "    </tr>\n",
       "    <tr>\n",
       "      <th>3</th>\n",
       "      <td>151.5</td>\n",
       "      <td>41.3</td>\n",
       "      <td>58.5</td>\n",
       "      <td>16.5</td>\n",
       "    </tr>\n",
       "    <tr>\n",
       "      <th>4</th>\n",
       "      <td>180.8</td>\n",
       "      <td>10.8</td>\n",
       "      <td>58.4</td>\n",
       "      <td>17.9</td>\n",
       "    </tr>\n",
       "    <tr>\n",
       "      <th>...</th>\n",
       "      <td>...</td>\n",
       "      <td>...</td>\n",
       "      <td>...</td>\n",
       "      <td>...</td>\n",
       "    </tr>\n",
       "    <tr>\n",
       "      <th>195</th>\n",
       "      <td>38.2</td>\n",
       "      <td>3.7</td>\n",
       "      <td>13.8</td>\n",
       "      <td>7.6</td>\n",
       "    </tr>\n",
       "    <tr>\n",
       "      <th>196</th>\n",
       "      <td>94.2</td>\n",
       "      <td>4.9</td>\n",
       "      <td>8.1</td>\n",
       "      <td>14.0</td>\n",
       "    </tr>\n",
       "    <tr>\n",
       "      <th>197</th>\n",
       "      <td>177.0</td>\n",
       "      <td>9.3</td>\n",
       "      <td>6.4</td>\n",
       "      <td>14.8</td>\n",
       "    </tr>\n",
       "    <tr>\n",
       "      <th>198</th>\n",
       "      <td>283.6</td>\n",
       "      <td>42.0</td>\n",
       "      <td>66.2</td>\n",
       "      <td>25.5</td>\n",
       "    </tr>\n",
       "    <tr>\n",
       "      <th>199</th>\n",
       "      <td>232.1</td>\n",
       "      <td>8.6</td>\n",
       "      <td>8.7</td>\n",
       "      <td>18.4</td>\n",
       "    </tr>\n",
       "  </tbody>\n",
       "</table>\n",
       "<p>200 rows × 4 columns</p>\n",
       "</div>"
      ],
      "text/plain": [
       "        TV  Radio  Newspaper  Sales\n",
       "0    230.1   37.8       69.2   22.1\n",
       "1     44.5   39.3       45.1   10.4\n",
       "2     17.2   45.9       69.3   12.0\n",
       "3    151.5   41.3       58.5   16.5\n",
       "4    180.8   10.8       58.4   17.9\n",
       "..     ...    ...        ...    ...\n",
       "195   38.2    3.7       13.8    7.6\n",
       "196   94.2    4.9        8.1   14.0\n",
       "197  177.0    9.3        6.4   14.8\n",
       "198  283.6   42.0       66.2   25.5\n",
       "199  232.1    8.6        8.7   18.4\n",
       "\n",
       "[200 rows x 4 columns]"
      ]
     },
     "execution_count": 2,
     "metadata": {},
     "output_type": "execute_result"
    }
   ],
   "source": [
    "path = '..\\\\Adv_sales Pred\\\\Advertising.csv'\n",
    "dataset = pd.read_csv(path)\n",
    "dataset"
   ]
  },
  {
   "cell_type": "markdown",
   "metadata": {},
   "source": [
    "# **Simple Linear Regression**"
   ]
  },
  {
   "cell_type": "markdown",
   "metadata": {},
   "source": [
    "## Getting Test set and Loading Simple Linear Model"
   ]
  },
  {
   "cell_type": "code",
   "execution_count": 3,
   "metadata": {},
   "outputs": [],
   "source": [
    "from sklearn.model_selection import train_test_split \n",
    "\n",
    "X = dataset.iloc[:,0].values\n",
    "y = dataset.iloc[:,3].values\n",
    "\n",
    "X = X.reshape(-1,1)\n",
    "\n",
    "X_train, X_test, y_train, y_test = train_test_split(X, y, test_size = 0.25, random_state = 0)\n",
    "\n",
    "model_SimpLR = joblib.load('Model Sales_simple_predict.sav') # Load model\n",
    "y_pred = model_SimpLR.predict(X_test) # Predicting the Test set results"
   ]
  },
  {
   "cell_type": "markdown",
   "metadata": {},
   "source": [
    "## Test set results"
   ]
  },
  {
   "cell_type": "code",
   "execution_count": 4,
   "metadata": {},
   "outputs": [
    {
     "name": "stdout",
     "output_type": "stream",
     "text": [
      "An estimate of the accuracy of the model on unseen data is 80.53611644334993 %\n"
     ]
    }
   ],
   "source": [
    "result = model_SimpLR.score(X_test, y_test)\n",
    "print (f'An estimate of the accuracy of the model on unseen data is {result*100} %')"
   ]
  },
  {
   "cell_type": "code",
   "execution_count": 5,
   "metadata": {},
   "outputs": [
    {
     "data": {
      "image/png": "[encoded data removed]",
      "text/plain": [
       "<Figure size 504x504 with 1 Axes>"
      ]
     },
     "metadata": {},
     "output_type": "display_data"
    }
   ],
   "source": [
    "import matplotlib.pyplot as plt\n",
    "\n",
    "plt.style.use('seaborn')\n",
    "\n",
    "plt.figure(figsize = (7,7))\n",
    "plt.scatter(X_test, y_test)\n",
    "plt.scatter(X_test, y_pred,color = 'red')\n",
    "plt.title('TV advertising and sales')\n",
    "plt.legend(['True value','Predict value']);"
   ]
  },
  {
   "cell_type": "markdown",
   "metadata": {},
   "source": [
    "## Predict values"
   ]
  },
  {
   "cell_type": "code",
   "execution_count": 6,
   "metadata": {},
   "outputs": [
    {
     "name": "stdout",
     "output_type": "stream",
     "text": [
      "Sales predict value: 16.67688537769201\n",
      "Sales correct value: 16.1\n"
     ]
    },
    {
     "data": {
      "text/html": [
       "<div>\n",
       "<style scoped>\n",
       "    .dataframe tbody tr th:only-of-type {\n",
       "        vertical-align: middle;\n",
       "    }\n",
       "\n",
       "    .dataframe tbody tr th {\n",
       "        vertical-align: top;\n",
       "    }\n",
       "\n",
       "    .dataframe thead th {\n",
       "        text-align: right;\n",
       "    }\n",
       "</style>\n",
       "<table border=\"1\" class=\"dataframe\">\n",
       "  <thead>\n",
       "    <tr style=\"text-align: right;\">\n",
       "      <th></th>\n",
       "      <th>0</th>\n",
       "      <th>1</th>\n",
       "      <th>2</th>\n",
       "      <th>3</th>\n",
       "      <th>4</th>\n",
       "      <th>5</th>\n",
       "      <th>6</th>\n",
       "      <th>7</th>\n",
       "      <th>8</th>\n",
       "      <th>9</th>\n",
       "      <th>10</th>\n",
       "    </tr>\n",
       "  </thead>\n",
       "  <tbody>\n",
       "    <tr>\n",
       "      <th>Sales predict value</th>\n",
       "      <td>11.883797</td>\n",
       "      <td>15.668101</td>\n",
       "      <td>17.369402</td>\n",
       "      <td>11.294885</td>\n",
       "      <td>13.68325</td>\n",
       "      <td>21.611749</td>\n",
       "      <td>7.167048</td>\n",
       "      <td>11.202186</td>\n",
       "      <td>18.765342</td>\n",
       "      <td>22.811385</td>\n",
       "      <td>14.77928</td>\n",
       "    </tr>\n",
       "    <tr>\n",
       "      <th>Sales correct value</th>\n",
       "      <td>10.600000</td>\n",
       "      <td>15.500000</td>\n",
       "      <td>20.600000</td>\n",
       "      <td>11.800000</td>\n",
       "      <td>13.20000</td>\n",
       "      <td>17.400000</td>\n",
       "      <td>1.600000</td>\n",
       "      <td>14.700000</td>\n",
       "      <td>17.000000</td>\n",
       "      <td>26.200000</td>\n",
       "      <td>10.30000</td>\n",
       "    </tr>\n",
       "  </tbody>\n",
       "</table>\n",
       "</div>"
      ],
      "text/plain": [
       "                            0          1          2          3         4   \\\n",
       "Sales predict value  11.883797  15.668101  17.369402  11.294885  13.68325   \n",
       "Sales correct value  10.600000  15.500000  20.600000  11.800000  13.20000   \n",
       "\n",
       "                            5         6          7          8          9   \\\n",
       "Sales predict value  21.611749  7.167048  11.202186  18.765342  22.811385   \n",
       "Sales correct value  17.400000  1.600000  14.700000  17.000000  26.200000   \n",
       "\n",
       "                           10  \n",
       "Sales predict value  14.77928  \n",
       "Sales correct value  10.30000  "
      ]
     },
     "execution_count": 6,
     "metadata": {},
     "output_type": "execute_result"
    }
   ],
   "source": [
    "## One value\n",
    "X_values = X_test[22]\n",
    "y_pred = model_SimpLR.predict([X_values])\n",
    "\n",
    "print(f\"Sales predict value: {float(y_pred)}\")\n",
    "print(f\"Sales correct value: {y_test[22]}\")\n",
    "\n",
    "## List of value \n",
    "X_values = X_test[11:22]\n",
    "y_pred = model_SimpLR.predict(X_values)\n",
    "\n",
    "pd.DataFrame([y_pred,y_test[11:22]],index=['Sales predict value','Sales correct value'])\n"
   ]
  },
  {
   "cell_type": "markdown",
   "metadata": {},
   "source": [
    "# **Multiple Linear Regression**"
   ]
  },
  {
   "cell_type": "markdown",
   "metadata": {},
   "source": [
    "## Getting Test set and Loading Multiple Linear Model"
   ]
  },
  {
   "cell_type": "code",
   "execution_count": 7,
   "metadata": {},
   "outputs": [],
   "source": [
    "from sklearn.model_selection import train_test_split \n",
    "\n",
    "X = dataset.iloc[:,:3].values\n",
    "y = dataset.iloc[:,3].values\n",
    "\n",
    "X_train, X_test, y_train, y_test = train_test_split(X, y, test_size = 0.25, random_state = 0)\n",
    "\n",
    "model_MulLR = joblib.load('Model Sales_multiple_predict.sav') # Load model\n",
    "y_pred = model_MulLR.predict(X_test) # Predicting the Test set results"
   ]
  },
  {
   "cell_type": "markdown",
   "metadata": {},
   "source": [
    "## Test set results"
   ]
  },
  {
   "cell_type": "code",
   "execution_count": 8,
   "metadata": {},
   "outputs": [
    {
     "name": "stdout",
     "output_type": "stream",
     "text": [
      "An estimate of the accuracy of the model on unseen data is 87.18069474344206 %\n"
     ]
    }
   ],
   "source": [
    "result = model_MulLR.score(X_test, y_test)\n",
    "print (f'An estimate of the accuracy of the model on unseen data is {result*100} %')"
   ]
  },
  {
   "cell_type": "code",
   "execution_count": 9,
   "metadata": {},
   "outputs": [
    {
     "data": {
      "image/png": "[encoded data removed]",
      "text/plain": [
       "<Figure size 1440x360 with 3 Axes>"
      ]
     },
     "metadata": {},
     "output_type": "display_data"
    }
   ],
   "source": [
    "fig,((ax1,ax2,ax3)) = plt.subplots(figsize=(20,5),nrows=1,ncols=3)\n",
    "\n",
    "ax1.scatter(X_test[:,0], y_test)\n",
    "ax1.scatter(X_test[:,0], (model_MulLR.intercept_ + model_MulLR.coef_[0] * X_test[:,0]) ,color = 'red')\n",
    "ax1.legend(['True value','Predict value'])\n",
    "ax1.set_xlabel('TV')\n",
    "ax1.set_ylabel('Sales')\n",
    "ax1.set_title('TV advertising and sales',fontsize=20)\n",
    "\n",
    "ax2.scatter(X_test[:,1], y_test)\n",
    "ax2.scatter(X_test[:,1], (model_MulLR.intercept_ + model_MulLR.coef_[1] * X_test[:,1]) ,color = 'red')\n",
    "ax2.legend(['True value','Predict value'])\n",
    "ax2.set_xlabel('Radio')\n",
    "ax2.set_ylabel('Sales')\n",
    "ax2.set_title('Radio advertising and sales',fontsize=20)\n",
    "\n",
    "ax3.scatter(X_test[:,2], y_test)\n",
    "ax3.scatter(X_test[:,2], (model_MulLR.intercept_ + model_MulLR.coef_[2] * X_test[:,2]) ,color = 'red')\n",
    "ax3.legend(['True value','Predict value'])\n",
    "ax3.set_xlabel('Newspaper')\n",
    "ax3.set_ylabel('Sales')\n",
    "ax3.set_title('Newspaper advertising and sales',fontsize=20);"
   ]
  },
  {
   "cell_type": "markdown",
   "metadata": {},
   "source": [
    "## Predict values"
   ]
  },
  {
   "cell_type": "code",
   "execution_count": 10,
   "metadata": {},
   "outputs": [
    {
     "name": "stdout",
     "output_type": "stream",
     "text": [
      "Sales predict value: 16.571283533617184\n",
      "Sales correct value: 16.1\n"
     ]
    },
    {
     "data": {
      "text/html": [
       "<div>\n",
       "<style scoped>\n",
       "    .dataframe tbody tr th:only-of-type {\n",
       "        vertical-align: middle;\n",
       "    }\n",
       "\n",
       "    .dataframe tbody tr th {\n",
       "        vertical-align: top;\n",
       "    }\n",
       "\n",
       "    .dataframe thead th {\n",
       "        text-align: right;\n",
       "    }\n",
       "</style>\n",
       "<table border=\"1\" class=\"dataframe\">\n",
       "  <thead>\n",
       "    <tr style=\"text-align: right;\">\n",
       "      <th></th>\n",
       "      <th>0</th>\n",
       "      <th>1</th>\n",
       "      <th>2</th>\n",
       "      <th>3</th>\n",
       "      <th>4</th>\n",
       "      <th>5</th>\n",
       "      <th>6</th>\n",
       "      <th>7</th>\n",
       "      <th>8</th>\n",
       "      <th>9</th>\n",
       "      <th>10</th>\n",
       "    </tr>\n",
       "  </thead>\n",
       "  <tbody>\n",
       "    <tr>\n",
       "      <th>Sales predict value</th>\n",
       "      <td>10.691535</td>\n",
       "      <td>13.386106</td>\n",
       "      <td>17.096515</td>\n",
       "      <td>11.75962</td>\n",
       "      <td>13.317368</td>\n",
       "      <td>21.134107</td>\n",
       "      <td>9.138203</td>\n",
       "      <td>14.174206</td>\n",
       "      <td>18.851218</td>\n",
       "      <td>24.846554</td>\n",
       "      <td>12.437498</td>\n",
       "    </tr>\n",
       "    <tr>\n",
       "      <th>Sales correct value</th>\n",
       "      <td>10.600000</td>\n",
       "      <td>15.500000</td>\n",
       "      <td>20.600000</td>\n",
       "      <td>11.80000</td>\n",
       "      <td>13.200000</td>\n",
       "      <td>17.400000</td>\n",
       "      <td>1.600000</td>\n",
       "      <td>14.700000</td>\n",
       "      <td>17.000000</td>\n",
       "      <td>26.200000</td>\n",
       "      <td>10.300000</td>\n",
       "    </tr>\n",
       "  </tbody>\n",
       "</table>\n",
       "</div>"
      ],
      "text/plain": [
       "                            0          1          2         3          4   \\\n",
       "Sales predict value  10.691535  13.386106  17.096515  11.75962  13.317368   \n",
       "Sales correct value  10.600000  15.500000  20.600000  11.80000  13.200000   \n",
       "\n",
       "                            5         6          7          8          9   \\\n",
       "Sales predict value  21.134107  9.138203  14.174206  18.851218  24.846554   \n",
       "Sales correct value  17.400000  1.600000  14.700000  17.000000  26.200000   \n",
       "\n",
       "                            10  \n",
       "Sales predict value  12.437498  \n",
       "Sales correct value  10.300000  "
      ]
     },
     "execution_count": 10,
     "metadata": {},
     "output_type": "execute_result"
    }
   ],
   "source": [
    "## One value\n",
    "X_values = X_test[22]\n",
    "y_pred = model_MulLR.predict([X_values])\n",
    "\n",
    "print(f\"Sales predict value: {float(y_pred)}\")\n",
    "print(f\"Sales correct value: {y_test[22]}\")\n",
    "\n",
    "## List of value \n",
    "X_values = X_test[11:22]\n",
    "y_pred = model_MulLR.predict(X_values)\n",
    "\n",
    "pd.DataFrame([y_pred,y_test[11:22]],index=['Sales predict value','Sales correct value'])"
   ]
  },
  {
   "cell_type": "code",
   "execution_count": null,
   "metadata": {},
   "outputs": [],
   "source": []
  }
 ],
 "metadata": {
  "interpreter": {
   "hash": "d19fc14300fda0706a869bebc893a462fe6835de60e13e4bb4a5dfbcfac7abf6"
  },
  "kernelspec": {
   "display_name": "Python 3.9.6 64-bit ('base': conda)",
   "name": "python3"
  },
  "language_info": {
   "codemirror_mode": {
    "name": "ipython",
    "version": 3
   },
   "file_extension": ".py",
   "mimetype": "text/x-python",
   "name": "python",
   "nbconvert_exporter": "python",
   "pygments_lexer": "ipython3",
   "version": "3.9.6"
  },
  "orig_nbformat": 4
 },
 "nbformat": 4,
 "nbformat_minor": 2
}
